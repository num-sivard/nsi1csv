{
 "cells": [
  {
   "cell_type": "markdown",
   "metadata": {},
   "source": [
    "# <center>**TRIER UNE TABLE DE DONNEES**</center>"
   ]
  },
  {
   "cell_type": "markdown",
   "metadata": {},
   "source": [
    "### 1) Trier une liste quelconque"
   ]
  },
  {
   "cell_type": "markdown",
   "metadata": {},
   "source": [
    "Python offre deux possibilités prédéfinies pour trier une liste. "
   ]
  },
  {
   "cell_type": "markdown",
   "metadata": {},
   "source": [
    "#### a) Tri avec copie"
   ]
  },
  {
   "cell_type": "markdown",
   "metadata": {},
   "source": [
    "La fonction *sorted(liste)* reçoit une liste et reourne une copie trier de cette liste, sans modifier la liste de départ.  \n",
    "Cette fonction utilise un algorithme de tri rapide."
   ]
  },
  {
   "cell_type": "code",
   "execution_count": null,
   "metadata": {},
   "outputs": [],
   "source": [
    "a = [8, 79, 5, 63, 15, 42, 5, 0, 13]\n",
    "a"
   ]
  },
  {
   "cell_type": "code",
   "execution_count": null,
   "metadata": {},
   "outputs": [],
   "source": [
    "b = sorted(a)\n",
    "b"
   ]
  },
  {
   "cell_type": "code",
   "execution_count": null,
   "metadata": {},
   "outputs": [],
   "source": [
    "a"
   ]
  },
  {
   "cell_type": "markdown",
   "metadata": {},
   "source": [
    "**Remarque :** Cette fonction ne sait trier que des listes d'objets de même nature.  \n",
    "Appliquer _sorted_ à une liste contenant des objets de différents types déclenche une erreur."
   ]
  },
  {
   "cell_type": "code",
   "execution_count": null,
   "metadata": {},
   "outputs": [],
   "source": [
    "sorted([8, \"cinq\", 12])"
   ]
  },
  {
   "cell_type": "markdown",
   "metadata": {},
   "source": [
    "#### b) Tri en place"
   ]
  },
  {
   "cell_type": "markdown",
   "metadata": {},
   "source": [
    "La méthode *liste.sort()* effectue un tri en place d'une liste. Elle ne retourne rien mais modifie directement la liste.  \n",
    "Cette méthode utilise également un algorithme de tri rapide."
   ]
  },
  {
   "cell_type": "code",
   "execution_count": null,
   "metadata": {},
   "outputs": [],
   "source": [
    "c = [\"Bryant\", \"James\", \"Jordan\", \"Abdul-Jabbar\", \"Johnson\"]\n",
    "c"
   ]
  },
  {
   "cell_type": "code",
   "execution_count": null,
   "metadata": {},
   "outputs": [],
   "source": [
    "c.sort()"
   ]
  },
  {
   "cell_type": "code",
   "execution_count": null,
   "metadata": {},
   "outputs": [],
   "source": [
    "c"
   ]
  },
  {
   "cell_type": "markdown",
   "metadata": {},
   "source": [
    "#### c) Tri dans l'ordre décroissant"
   ]
  },
  {
   "cell_type": "markdown",
   "metadata": {},
   "source": [
    "Par défaut, ces tris se font dans l'ordre croissant. Si on veut trier dans l'ordre décroissant, on peut utiliser le paramètre *reverse=True*."
   ]
  },
  {
   "cell_type": "code",
   "execution_count": null,
   "metadata": {},
   "outputs": [],
   "source": [
    "sorted([7, 8, 9, 3, 5, 4, 11], reverse=True)"
   ]
  },
  {
   "cell_type": "markdown",
   "metadata": {},
   "source": [
    "#### d) Tri avec un ordre non standard"
   ]
  },
  {
   "cell_type": "markdown",
   "metadata": {},
   "source": [
    "Si on veut effectuer un tri avec une méthode différente de celle de l'ordre naturel des objets de la liste, on peut indiquer une fonction avec le paramètre *key=fonction*.  \n",
    "Pour effectuer le tri, on utilisera pour chaque élément de la liste non pas sa valeur, mais celle que renvoie la fonction passée en paramètre."
   ]
  },
  {
   "cell_type": "code",
   "execution_count": null,
   "metadata": {},
   "outputs": [],
   "source": [
    "e = [\"Kobe\", \"Lebron\", \"Michael\", \"Kareem\", \"Earvin\"]\n",
    "sorted(e)  # tri normal dans l'ordre alphabétique"
   ]
  },
  {
   "cell_type": "code",
   "execution_count": null,
   "metadata": {},
   "outputs": [],
   "source": [
    "def deuxiemeLettre(nom):\n",
    "    return nom[1]\n",
    "\n",
    "sorted(e, key=deuxiemeLettre)"
   ]
  },
  {
   "cell_type": "code",
   "execution_count": null,
   "metadata": {},
   "outputs": [],
   "source": [
    "def derniereLettre(nom):\n",
    "    return nom[-1]\n",
    "\n",
    "sorted(e, key=derniereLettre)"
   ]
  },
  {
   "cell_type": "markdown",
   "metadata": {},
   "source": [
    "### 2) Trier une table suivant les valeurs d'une colonne"
   ]
  },
  {
   "cell_type": "markdown",
   "metadata": {},
   "source": [
    "Une opération qu'on veut fréquement effectuer sur les tables de données est le tri suivant les valeurs d'une colonne précise.  \n",
    "C'est facile à réaliser avec le paramètre *key* des fonctions de tri de Python."
   ]
  },
  {
   "cell_type": "markdown",
   "metadata": {},
   "source": [
    "Reprenons notre exemple de NBA :\n",
    "\n",
    "Nom         |Rebonds |Assistances |Contres |Interceptions |Points       \n",
    "------------|:------:|:----------:|:------:|:------------:|:-------:\n",
    "Antetokoumpo|19      |           9|       1|             1|30\n",
    "Middleton   |8       |           6|       0|             1|25\n",
    "Lopez       |4       |           1|       0|             8|17\n",
    "Bledsoe     |7       |           4|       0|             1|12\n",
    "Matthews    |1       |           1|       0|             0|2"
   ]
  },
  {
   "cell_type": "code",
   "execution_count": null,
   "metadata": {
    "scrolled": true
   },
   "outputs": [],
   "source": [
    "table = [['Antetokounmpo', 19, 9, 1, 1, 30],\n",
    " ['Middleton', 8, 6, 0, 1, 25],\n",
    " ['Lopez', 4, 1, 0, 8, 17],\n",
    " ['Bledsoe', 7, 4, 0, 1, 12],\n",
    " ['Matthews', 1, 1, 0, 0, 2]]\n",
    "table"
   ]
  },
  {
   "cell_type": "markdown",
   "metadata": {},
   "source": [
    "Pour trier cette table dans l'ordre croissant des points marqués par les joueurs, il suffit de créer une fonction qui retourne le nombre de points d'une ligne."
   ]
  },
  {
   "cell_type": "code",
   "execution_count": null,
   "metadata": {},
   "outputs": [],
   "source": [
    "def points(ligne):\n",
    "    return ligne[5]"
   ]
  },
  {
   "cell_type": "code",
   "execution_count": null,
   "metadata": {},
   "outputs": [],
   "source": [
    "print(f\"Points marqués par le premier joueur de la liste : {points(table[0])}\")"
   ]
  },
  {
   "cell_type": "code",
   "execution_count": null,
   "metadata": {},
   "outputs": [],
   "source": [
    "print(f\"Points marqués par le deuxième joueur de la liste : {points(table[1])}\")"
   ]
  },
  {
   "cell_type": "code",
   "execution_count": null,
   "metadata": {},
   "outputs": [],
   "source": [
    "print(f\"Points marqués par le troisième joueur de la liste : {points(table[2])}\")"
   ]
  },
  {
   "cell_type": "code",
   "execution_count": null,
   "metadata": {},
   "outputs": [],
   "source": [
    "sorted(table, key=points)"
   ]
  },
  {
   "cell_type": "markdown",
   "metadata": {},
   "source": [
    "Pour l'avoir dans l'ordre décroissant, il suffit d'ajouter le paramètre *reverse=true*."
   ]
  },
  {
   "cell_type": "code",
   "execution_count": null,
   "metadata": {},
   "outputs": [],
   "source": [
    "sorted(table, key=points, reverse=True)"
   ]
  },
  {
   "cell_type": "markdown",
   "metadata": {},
   "source": [
    "Si on préfère trier la table dans l'ordre décroissant du nombre de rebonds pris il suffit de faire :"
   ]
  },
  {
   "cell_type": "code",
   "execution_count": null,
   "metadata": {},
   "outputs": [],
   "source": [
    "def rebonds(ligne):\n",
    "    return ligne[1]\n",
    "\n",
    "sorted(table, key=rebonds, reverse=True)"
   ]
  }
 ],
 "metadata": {
  "celltoolbar": "Format de la Cellule Texte Brut",
  "kernelspec": {
   "display_name": "Python 3",
   "language": "python",
   "name": "python3"
  },
  "language_info": {
   "codemirror_mode": {
    "name": "ipython",
    "version": 3
   },
   "file_extension": ".py",
   "mimetype": "text/x-python",
   "name": "python",
   "nbconvert_exporter": "python",
   "pygments_lexer": "ipython3",
   "version": "3.7.3"
  }
 },
 "nbformat": 4,
 "nbformat_minor": 2
}
