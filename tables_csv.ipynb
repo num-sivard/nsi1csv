{
 "cells": [
  {
   "cell_type": "markdown",
   "metadata": {},
   "source": [
    "# <center>**TABLES DE DONNEES ET FORMAT CSV**</center>"
   ]
  },
  {
   "cell_type": "markdown",
   "metadata": {},
   "source": [
    "On travaillera ici sur un exemple, des statistiques de NBA :\n",
    "\n",
    "Nom         |Rebonds |Assistances |Contres |Interceptions |Points       \n",
    "------------|:------:|:----------:|:------:|:------------:|:-------:\n",
    "Antetokoumpo|19      |           9|       1|             1|30\n",
    "Middleton   |8       |           6|       0|             1|25\n",
    "Lopez       |4       |           1|       0|             8|17\n",
    "Bledsoe     |7       |           4|       0|             1|12\n",
    "Matthews    |1       |           1|       0|             0|2\n",
    "\n",
    "Le tableau ci-dessus a été enregistré au format csv dans le fichier \"bucks-2020-02-02.csv\".   \n",
    "Ouvrez et observez ce fichier dans un éditeur de texte (par exemple notepad++) puis dans un tableur. "
   ]
  },
  {
   "cell_type": "markdown",
   "metadata": {},
   "source": [
    "CSV : **Comma-Separated Values**, est un format de texte représentant les données d'un tableau sous forme de chaînes de caractères séparées par des virgules.\n",
    "\n",
    "Un fichier CSV est un fichier texte dans lequel chaque ligne de texte représente une ligne d'un tableau.    \n",
    "Les valeurs d'une même ligne sont séparées par des virgules.\n",
    "\n",
    "Le séparateur des valeurs est donc par défaut la virgule. Toutefois, il est fréquent de rencontrer le point-virgule comme séparateur, voire même un espace ou une tabulation."
   ]
  },
  {
   "cell_type": "markdown",
   "metadata": {},
   "source": [
    "**Python et les fichiers csv** :\n",
    "La bibliothèque standard de python contient le module **csv** qui propose des fonctionnalités permettant de lire et enregistrer facilement des fichiers au format csv."
   ]
  },
  {
   "cell_type": "markdown",
   "metadata": {},
   "source": [
    "### 1) Lecture du fichier  \n",
    "#### a) Fonctionnement standard"
   ]
  },
  {
   "cell_type": "code",
   "execution_count": null,
   "metadata": {},
   "outputs": [],
   "source": [
    "import csv                        # import du module (ou bilibothèque) csv"
   ]
  },
  {
   "cell_type": "code",
   "execution_count": null,
   "metadata": {
    "scrolled": true
   },
   "outputs": [],
   "source": [
    "fichier = open('bucks-2020-02-02.csv', mode=\"r\", newline=\"\") # Ouverture standard du fichier\n",
    "\n",
    "lecteurCSV = csv.reader(fichier)  # Création d'un lecteur csv qui est un itérateur permettant\n",
    "for ligne in lecteurCSV:          # le parcours du fichier ligne par ligne avec une boucle for.\n",
    "    print(ligne)                  # Le lecteur renvoie chaque ligne sous forme de liste de valeurs.\n",
    "    \n",
    "fichier.close()                                              # Fermeture standard du fichier  "
   ]
  },
  {
   "cell_type": "markdown",
   "metadata": {},
   "source": [
    "**Remarque 1 :** le paramètre newline=\"\" est nécessaire pour indiquer à Python d'utiliser le mode universel de retour à la ligne. Ceci car les différents systèmes d'exploitation (Windows, Unix, ...) n'utilisent pas tous les mêmes caractères pour signaler une fin de ligne dans un document textuel. Le module CSV peut s'y perdre. On demabde donc à Python de stanardiser les retours à la ligne qu'il lit."
   ]
  },
  {
   "cell_type": "markdown",
   "metadata": {},
   "source": [
    "**Remarque 2 :** Il est important de remarquer que toutes les valeurs de ces listes sont des chaînes de caractères, même si ces caractères sont des chiffres. Le lecteur CSV ne cherche pas à interpréter le texte qu'il lit."
   ]
  },
  {
   "cell_type": "markdown",
   "metadata": {},
   "source": [
    "#### b) Choix du séparateur"
   ]
  },
  {
   "cell_type": "markdown",
   "metadata": {},
   "source": [
    "Si le séparateur n'est pas la virgule, comme c'est le cas dans le fichier \"fr-bucks-2020-02-02.csv\", on n'obtient pas le résultat escompté :"
   ]
  },
  {
   "cell_type": "code",
   "execution_count": null,
   "metadata": {},
   "outputs": [],
   "source": [
    "fichier = open('fr-bucks-2020-02-02.csv', mode=\"r\", newline=\"\")\n",
    "\n",
    "lecteurCSV = csv.reader(fichier)\n",
    "for ligne in lecteurCSV:\n",
    "    print(f\"{ligne}, nombre d'éléments : {len(ligne)}\")\n",
    "    \n",
    "fichier.close()"
   ]
  },
  {
   "cell_type": "markdown",
   "metadata": {},
   "source": [
    "Comme python ne trouve pas de virgule dans les lignes, il considère que chaque ligne est réduite à une seule grande chaîne de caractères (avec des point-virgules dedans.\n",
    "\n",
    "On peut cependant indiquer à Python d'utiliser un autre séparateur avec le paramètre **delimiter**."
   ]
  },
  {
   "cell_type": "code",
   "execution_count": null,
   "metadata": {},
   "outputs": [],
   "source": [
    "fichier = open('fr-bucks-2020-02-02.csv', mode=\"r\", newline=\"\")\n",
    "\n",
    "lecteurCSV = csv.reader(fichier, delimiter=\";\")\n",
    "for ligne in lecteurCSV:\n",
    "    print(f\"{ligne}, nombre d'éléments : {len(ligne)}\")\n",
    "    \n",
    "fichier.close()"
   ]
  },
  {
   "cell_type": "markdown",
   "metadata": {},
   "source": [
    "#### c) Obtenir l'ensemble de la table"
   ]
  },
  {
   "cell_type": "markdown",
   "metadata": {},
   "source": [
    "Pour reccueillir l'ensemble de la table dans une liste, il suffit d'utiliser la méthode append avec chaque ligne."
   ]
  },
  {
   "cell_type": "code",
   "execution_count": null,
   "metadata": {
    "scrolled": true
   },
   "outputs": [],
   "source": [
    "fichier = open('bucks-2020-02-02.csv', mode=\"r\", newline=\"\")\n",
    "\n",
    "table = []\n",
    "lecteurCSV = csv.reader(fichier)\n",
    "for ligne in lecteurCSV:\n",
    "    table.append(ligne)\n",
    "    \n",
    "fichier.close()\n",
    "\n",
    "table"
   ]
  },
  {
   "cell_type": "markdown",
   "metadata": {},
   "source": [
    "### 2) Enregistrer un table"
   ]
  },
  {
   "cell_type": "markdown",
   "metadata": {},
   "source": [
    "Pour enregistrer une table de données dans un fichier csv, on utilisera un objet writer plutôt qu'un objet reader du module csv."
   ]
  },
  {
   "cell_type": "code",
   "execution_count": null,
   "metadata": {},
   "outputs": [],
   "source": [
    "table = [['Siakam', '9', '5', '0', '0', '17'], ['Anunoby', '7', '0', '1', '0', '4'], ['Ibaka', '6', '1', '0', '3', '16'], ['Lowry', '4', '6', '0', '1', '14'], ['VanVlee', '4', '8', '1', '0', '12']]\n",
    "\n",
    "fichier = open('raptors-2020-02-02.csv', mode=\"w\", newline=\"\")\n",
    "\n",
    "ecriveurCSV = csv.writer(fichier)  # Création de l'objet écriveur csv\n",
    "for ligne in table:                # Parcours de la table ligne par ligne\n",
    "    ecriveurCSV.writerow(ligne)    # Ecriture d'une ligne dans le fichier, \n",
    "                                   # les valeurs seront séparées automatiquement par des virgules.\n",
    "\n",
    "fichier.close()                     "
   ]
  },
  {
   "cell_type": "markdown",
   "metadata": {},
   "source": [
    "Vérifions que le fichier a bien été enregistré au format CSV. On va le lire entièrment sans utiliser le module CSV."
   ]
  },
  {
   "cell_type": "code",
   "execution_count": null,
   "metadata": {},
   "outputs": [],
   "source": [
    "fichier = open('raptors-2020-02-02.csv', mode=\"r\", newline=\"\")\n",
    "contenu = fichier.read()\n",
    "fichier.close()\n",
    "contenu"
   ]
  },
  {
   "cell_type": "markdown",
   "metadata": {},
   "source": [
    "Si on le lit avec le module CSV, on retrouve bien nos listes de données :"
   ]
  },
  {
   "cell_type": "code",
   "execution_count": null,
   "metadata": {},
   "outputs": [],
   "source": [
    "fichier = open('raptors-2020-02-02.csv', mode=\"r\", newline=\"\")\n",
    "lecteurCSV = csv.reader(fichier)\n",
    "for ligne in lecteurCSV:\n",
    "    print(f\"{ligne}, nombre d'éléments : {len(ligne)}\")\n",
    "fichier.close()"
   ]
  }
 ],
 "metadata": {
  "celltoolbar": "Format de la Cellule Texte Brut",
  "kernelspec": {
   "display_name": "Python 3",
   "language": "python",
   "name": "python3"
  },
  "language_info": {
   "codemirror_mode": {
    "name": "ipython",
    "version": 3
   },
   "file_extension": ".py",
   "mimetype": "text/x-python",
   "name": "python",
   "nbconvert_exporter": "python",
   "pygments_lexer": "ipython3",
   "version": "3.7.3"
  }
 },
 "nbformat": 4,
 "nbformat_minor": 2
}
